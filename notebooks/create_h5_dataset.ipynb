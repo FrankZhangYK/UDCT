{
 "cells": [
  {
   "cell_type": "code",
   "execution_count": 83,
   "metadata": {},
   "outputs": [
    {
     "data": {
      "text/plain": [
       "'/media/csaba/ExtraDrive1/cycle_gan_lbb/code/notebooks'"
      ]
     },
     "execution_count": 83,
     "metadata": {},
     "output_type": "execute_result"
    }
   ],
   "source": [
    "import numpy as np\n",
    "import matplotlib.pyplot as plt\n",
    "import h5py\n",
    "import cv2\n",
    "import os\n",
    "import imageio as io\n",
    "from scipy.misc import imresize\n",
    "\n",
    "os.getcwd()"
   ]
  },
  {
   "cell_type": "code",
   "execution_count": 121,
   "metadata": {},
   "outputs": [],
   "source": [
    "path_of_data='../Data/Mitochondria256/' #change this to where trainA and trainB are\n",
    "\n",
    "dataseth5=path_of_data+'dataset.h5' #will create this file\n",
    "trainA=path_of_data+'trainA/' #this is the raw, 1 channel data\n",
    "trainB=path_of_data+'trainB/'"
   ]
  },
  {
   "cell_type": "code",
   "execution_count": 122,
   "metadata": {},
   "outputs": [],
   "source": [
    "# create a hdf5 file\n",
    "f.close()\n",
    "f = h5py.File(dataseth5,\"w\")"
   ]
  },
  {
   "cell_type": "code",
   "execution_count": 123,
   "metadata": {},
   "outputs": [
    {
     "data": {
      "text/plain": [
       "(1, 3)"
      ]
     },
     "execution_count": 123,
     "metadata": {},
     "output_type": "execute_result"
    }
   ],
   "source": [
    "files_A=sorted([trainA+el for el in os.listdir(trainA)]) #This should be your raw data\n",
    "shape=cv2.imread(files_A[0],cv2.IMREAD_UNCHANGED).shape\n",
    "if len(shape)==2:\n",
    "    ha,wa=shape\n",
    "    nca=1\n",
    "if len(shape)==3:\n",
    "    ha,wa,nca=shape\n",
    "\n",
    "files_B=sorted([trainB+el for el in os.listdir(trainB)]) #This should be your synthetic data\n",
    "hb,wb,ncb=cv2.imread(files_B[0],cv2.IMREAD_UNCHANGED).shape\n",
    "nca,ncb\n",
    "nca, ncb"
   ]
  },
  {
   "cell_type": "code",
   "execution_count": 124,
   "metadata": {},
   "outputs": [
    {
     "data": {
      "text/plain": [
       "<HDF5 dataset \"data\": shape (2000, 256, 256, 1), type \"|u1\">"
      ]
     },
     "execution_count": 124,
     "metadata": {},
     "output_type": "execute_result"
    }
   ],
   "source": [
    "# Copy the real data (A) into the h5 file\n",
    "imdim=256\n",
    "num_samples = len(files_A)\n",
    "num_channel = nca # !!! Do not change. This is hardcoded in the code. !!!\n",
    "group = f.create_group('A')\n",
    "group.create_dataset(name='num_samples', data=num_samples)\n",
    "group.create_dataset(name='num_channel', data=num_channel)\n",
    "dtype=np.uint8\n",
    "\n",
    "dataA = np.zeros([num_samples,np.min((ha,imdim)),np.min((wa,imdim)),num_channel],dtype=dtype)\n",
    "for idx,fname in enumerate(files_A):\n",
    "    # Important: A and B get swapped\n",
    "    #orig_image = #cv2.imread(fname,cv2.IMREAD_UNCHANGED)\n",
    "    orig_image = cv2.imread(fname,cv2.IMREAD_UNCHANGED)\n",
    "    if ha>imdim or wa>imdim:\n",
    "        resi_image = imresize(orig_image, (imdim,imdim,num_channel)).astype(dtype)\n",
    "    else:\n",
    "        resi_image = orig_image.reshape(np.min((ha,imdim)),np.min((wa,imdim)),nca)\n",
    "    \n",
    "    dataA[idx,:,:,:] = np.array(resi_image)\n",
    "\n",
    "group.create_dataset(name='data', data=(dataA),dtype=dtype)"
   ]
  },
  {
   "cell_type": "code",
   "execution_count": 125,
   "metadata": {
    "scrolled": true
   },
   "outputs": [
    {
     "data": {
      "text/plain": [
       "<HDF5 dataset \"data\": shape (2000, 256, 256, 3), type \"|u1\">"
      ]
     },
     "execution_count": 125,
     "metadata": {},
     "output_type": "execute_result"
    }
   ],
   "source": [
    "imdim=256\n",
    "num_samples = len(files_B)\n",
    "num_channel = ncb # !!! Do not change. This is hardcoded in the code. !!!\n",
    "group = f.create_group('B')\n",
    "group.create_dataset(name='num_samples', data=num_samples)\n",
    "group.create_dataset(name='num_channel', data=num_channel)\n",
    "dtype=np.uint8\n",
    "\n",
    "dataB = np.zeros([num_samples,np.min((hb,imdim)),np.min((wb,imdim)),num_channel],dtype=dtype)\n",
    "for idx,fname in enumerate(files_B):\n",
    "    # Important: A and B get swapped\n",
    "    #orig_image = #cv2.imread(fname,cv2.IMREAD_UNCHANGED)\n",
    "    orig_image = cv2.imread(fname,cv2.IMREAD_UNCHANGED)\n",
    "    if hb>imdim or wb>imdim:\n",
    "        resi_image = imresize(orig_image, (imdim,imdim,num_channel)).astype(dtype)\n",
    "    else:\n",
    "        resi_image = orig_image.reshape(np.min((hb,imdim)),np.min((wb,imdim)),ncb)\n",
    "    \n",
    "    dataB[idx,:,:,:] = np.array(resi_image)\n",
    "\n",
    "group.create_dataset(name='data', data=(dataB),dtype=dtype)"
   ]
  },
  {
   "cell_type": "code",
   "execution_count": 126,
   "metadata": {},
   "outputs": [],
   "source": [
    "f.close()"
   ]
  },
  {
   "cell_type": "code",
   "execution_count": null,
   "metadata": {},
   "outputs": [],
   "source": []
  },
  {
   "cell_type": "code",
   "execution_count": null,
   "metadata": {},
   "outputs": [],
   "source": []
  },
  {
   "cell_type": "code",
   "execution_count": null,
   "metadata": {},
   "outputs": [],
   "source": []
  },
  {
   "cell_type": "code",
   "execution_count": null,
   "metadata": {},
   "outputs": [],
   "source": []
  },
  {
   "cell_type": "code",
   "execution_count": null,
   "metadata": {},
   "outputs": [],
   "source": []
  },
  {
   "cell_type": "code",
   "execution_count": null,
   "metadata": {},
   "outputs": [],
   "source": []
  },
  {
   "cell_type": "code",
   "execution_count": null,
   "metadata": {},
   "outputs": [],
   "source": []
  },
  {
   "cell_type": "code",
   "execution_count": null,
   "metadata": {},
   "outputs": [],
   "source": []
  }
 ],
 "metadata": {
  "kernelspec": {
   "display_name": "Python 2",
   "language": "python",
   "name": "python2"
  },
  "language_info": {
   "codemirror_mode": {
    "name": "ipython",
    "version": 2
   },
   "file_extension": ".py",
   "mimetype": "text/x-python",
   "name": "python",
   "nbconvert_exporter": "python",
   "pygments_lexer": "ipython2",
   "version": "2.7.12"
  }
 },
 "nbformat": 4,
 "nbformat_minor": 2
}
