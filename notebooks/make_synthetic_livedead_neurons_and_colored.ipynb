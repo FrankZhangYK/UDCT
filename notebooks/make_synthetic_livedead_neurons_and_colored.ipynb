{
 "cells": [
  {
   "cell_type": "markdown",
   "metadata": {},
   "source": [
    "Ths script creates the synthetic dataset for both neuron datasets. The first dataset consideres the dead vs alive neurons, while the second dataset tries to differentiate between neighbor live neurons."
   ]
  },
  {
   "cell_type": "code",
   "execution_count": null,
   "metadata": {},
   "outputs": [],
   "source": [
    "import h5py as h5\n",
    "import imageio as io\n",
    "import matplotlib.pyplot as plt\n",
    "%matplotlib inline\n",
    "import os\n",
    "import numpy as np\n",
    "from skimage.filters import gaussian"
   ]
  },
  {
   "cell_type": "code",
   "execution_count": null,
   "metadata": {},
   "outputs": [],
   "source": [
    "number_images      = 1728"
   ]
  },
  {
   "cell_type": "code",
   "execution_count": null,
   "metadata": {},
   "outputs": [],
   "source": [
    "data_path          = '../Data/'"
   ]
  },
  {
   "cell_type": "code",
   "execution_count": null,
   "metadata": {},
   "outputs": [],
   "source": [
    "density_low        =  75000 # 1/cm²\n",
    "density_high       = 250000 # 1/cm²\n",
    "image_size         = 636.4  # µm"
   ]
  },
  {
   "cell_type": "code",
   "execution_count": null,
   "metadata": {},
   "outputs": [],
   "source": [
    "image_size_cm      = image_size    / 10000.\n",
    "image_small        = image_size_cm / 4."
   ]
  },
  {
   "cell_type": "code",
   "execution_count": null,
   "metadata": {},
   "outputs": [],
   "source": [
    "ratio_high_low     = 0.6  # approximate percent of data images seeded with the high density\n",
    "seeding_viability  = 0.9  # Viability during seeding (estimate)\n",
    "expected_viability = 0.25 # Viability at time of imaging (estimate)"
   ]
  },
  {
   "cell_type": "code",
   "execution_count": null,
   "metadata": {},
   "outputs": [],
   "source": [
    "def gauss_intensity_rot(xx,yy,x0,y0,sigma_x,sigma_y,rot,height):\n",
    "    gauss = lambda x,s: np.exp(-(x**2/(s**2)))\n",
    "    new_xx=(xx-x0)*np.cos(rot)+(yy-y0)*np.sin(rot)\n",
    "    new_yy=(xx-x0)*np.sin(rot)-(yy-y0)*np.cos(rot)\n",
    "    return gauss(new_xx,sigma_x)*gauss(new_yy,sigma_y)*height+np.random.normal(0.05,0.02,size=np.shape(xx))\n",
    "def ellipse(xx,yy,x0,y0,ax1,ax2,rot):\n",
    "    x_,y_ = (xx-x0),(yy-y0)\n",
    "    c,s=np.cos(rot),np.sin(rot)\n",
    "    return (x_*c+y_*s)**2/ax1**2+(x_*s-y_*c)**2/ax2**2 < 1\n",
    "def rotate(seg,ang):\n",
    "    x=seg[0]*np.cos(ang)-seg[1]*np.sin(ang)\n",
    "    y=seg[1]*np.cos(ang)+seg[0]*np.sin(ang)\n",
    "    return np.array([x,y])\n",
    "def make_axon(tortuousity,n_seg,seg_length):\n",
    "    segment=np.array([seg_length,0]).reshape(2,1)\n",
    "    init_angle=np.random.rand()*2*np.pi\n",
    "    segment=rotate(segment,init_angle)\n",
    "    next_angles=np.random.normal(0,tortuousity,size=n_seg-1)\n",
    "    next_segments=rotate(segment,next_angles)\n",
    "    return np.cumsum(np.hstack((segment,next_segments)),axis=1).astype(int)#add all segments up to make the axon\n",
    "def live_neuron_oval(xx,yy,x0,y0):\n",
    "    ab=np.random.randint(36,81) #simialr to a 6x6 or 9x9 area\n",
    "    ax1=np.random.randint(int(0.7*np.sqrt(ab)),int(1.3*np.sqrt(ab))) #oval range\n",
    "    ax2=ab/ax1\n",
    "    rot=np.random.rand()*np.pi #rotate it\n",
    "    body=ellipse(xx,yy,x0,y0,ax1,ax2,rot)\n",
    "    if ax1>ax2:\n",
    "        hinge1=[(x0+ax1)*np.cos(rot),(x0+ax1)*np.sin(rot)]\n",
    "        hinge2=[(x0-ax1)*np.cos(rot),(x0-ax1)*np.sin(rot)]\n",
    "    else:\n",
    "        hinge1=[x0+ax2*np.cos(rot+np.pi/2.),y0+ax2*np.sin(rot+np.pi/2.)]\n",
    "        hinge2=[x0-ax2*np.cos(rot+np.pi/2.),y0-ax2*np.sin(rot+np.pi/2.)]\n",
    "    axon_layer=np.zeros((256,256))\n",
    "\n",
    "    for i in range(np.random.randint(0,4)):\n",
    "        p=np.random.rand()\n",
    "        if p>0.5:\n",
    "            hinge=hinge1\n",
    "        else:\n",
    "            hinge=hinge2\n",
    "        ax,ay=hinge[1],hinge[0]\n",
    "        axon=make_axon(tortuousity=0.4,n_seg=np.random.randint(15,80),seg_length=1)+np.array([int(ax),int(ay)]).reshape(2,1)\n",
    "        axon=np.clip(axon,0,255)\n",
    "        axon_layer[axon[0,:],axon[1,:]]=True\n",
    "    axon_layer[body]=False #cover the axons with the cell body\n",
    "    final=np.zeros((256,256,2))\n",
    "    final[:,:,1]=body\n",
    "    final[:,:,0]=axon_layer\n",
    "    return final.astype(bool),ax1,ax2,rot\n",
    "def put_live_neurons(synthetic_image):\n",
    "    if np.random.random() < ratio_high_low: # high density\n",
    "        count = np.random.poisson(image_small*image_small*density_high/seeding_viability*expected_viability)\n",
    "    else:                        # low density\n",
    "        count = np.random.poisson(image_small*image_small*density_low/seeding_viability*expected_viability)\n",
    "    for i in range(count):\n",
    "        tmp_a=np.zeros((256,256))\n",
    "        tmp_b=np.zeros((256,256))\n",
    "        center=np.random.randint(255),np.random.randint(255)\n",
    "        axbody,ax1,ax2,rot=live_neuron_oval(xx,yy,center[0],center[1])\n",
    "        jitter_x_I=-ax2/3.+2/3.*np.random.rand()*ax2\n",
    "        jitter_y_I=ax1/3.+2/3.*np.random.rand()*ax1\n",
    "        sigma_xI=1.2*ax1\n",
    "        sigma_yI=1.2*ax2\n",
    "        I=0.7+0.3*np.random.rand()\n",
    "        intensity=gauss_intensity_rot(xx,yy,center[0]+jitter_x_I,center[1]+jitter_y_I,sigma_xI,sigma_yI,rot,I)# gauss halo coloring\n",
    "\n",
    "        tmp_a[axbody[:,:,0]]=np.random.normal(.9+0.5*np.random.rand(),0.1,size=(256,256))[axbody[:,:,0]] #axons\n",
    "        final_intensity=np.max(np.vstack((synthetic[axbody[:,:,1],1],intensity[axbody[:,:,1]])),axis=0)\n",
    "        tmp_b[axbody[:,:,1]]=final_intensity #bodies\n",
    "        synthetic[axbody[:,:,1],1]=tmp_b[axbody[:,:,1]]\n",
    "        synthetic[:,:,0]+=gaussian(tmp_a,sigma=1.2,mode='wrap')\n",
    "def put_dead_neurons(synthetic,cell_radius):\n",
    "    if np.random.random() < ratio_high_low: # high density\n",
    "        count = np.random.poisson(image_small*image_small*density_high/seeding_viability*(1-expected_viability))\n",
    "    else:                        # low density\n",
    "        count = np.random.poisson(image_small*image_small*density_low/seeding_viability*(1-expected_viability))\n",
    "    for i in range(count):\n",
    "        tmp=np.zeros((256,256))\n",
    "        center=np.random.randint(255),np.random.randint(255)\n",
    "        jitter_x_I=-cell_radius/3.+2/3.*np.random.rand()*cell_radius\n",
    "        jitter_y_I=-cell_radius/3.+2/3.*np.random.rand()*cell_radius\n",
    "        sigma_xI=0.8*cell_radius\n",
    "        sigma_yI=0.8*cell_radius\n",
    "        I=0.7+0.3*np.random.rand()\n",
    "        intensity=gauss_intensity_rot(xx,yy,center[0]+jitter_x_I,center[1]+jitter_y_I,sigma_xI,sigma_yI,0,I)# gauss halo coloring\n",
    "        cell_mask=ellipse(xx,yy,center[0],center[1],cell_radius,cell_radius,0)\n",
    "        if np.max(synthetic[cell_mask,1])<0.5:\n",
    "            tmp[cell_mask]=intensity[cell_mask]\n",
    "            synthetic[:,:,2]+=tmp"
   ]
  },
  {
   "cell_type": "code",
   "execution_count": null,
   "metadata": {},
   "outputs": [],
   "source": [
    "xx,yy=np.meshgrid(np.arange(256),np.arange(256))"
   ]
  },
  {
   "cell_type": "code",
   "execution_count": null,
   "metadata": {},
   "outputs": [],
   "source": [
    "directory = data_path + 'Neuron_Dead_Live/Synthetic/'\n",
    "if not os.path.exists(directory):\n",
    "    os.makedirs(directory)"
   ]
  },
  {
   "cell_type": "code",
   "execution_count": null,
   "metadata": {},
   "outputs": [],
   "source": [
    "for i in range(number_images):\n",
    "    name=directory+str(i).zfill(5)+'.png'\n",
    "    synthetic=np.random.normal(0.15,0.07,size=(256,256,3))\n",
    "    put_live_neurons(synthetic)\n",
    "    put_dead_neurons(synthetic,4.5)\n",
    "    image=(np.clip(synthetic,0,1)*255).astype(np.uint8)\n",
    "    io.imsave(name,image)\n",
    "    if i%50==0:\n",
    "        print i,"
   ]
  },
  {
   "cell_type": "code",
   "execution_count": null,
   "metadata": {},
   "outputs": [],
   "source": [
    "# Create the 1/x masks to decode position\n",
    "ls            = np.linspace(-50,50,101)\n",
    "grid_X,grid_Y = np.meshgrid(ls,ls)\n",
    "grid_R        = (0.75*5/np.abs(grid_X)) * np.sign(grid_X)\n",
    "grid_R[:,50]  = grid_R[:,51]\n",
    "grid_R        = np.maximum(np.minimum(grid_R,3),-3)\n",
    "maskX         = grid_R * np.abs(grid_R.T)\n",
    "maskX[:,50]   = 0.\n",
    "maskY         = maskX.T\n",
    "plt.figure(figsize=(8,4))\n",
    "plt.subplot(1,2,1)\n",
    "plt.imshow(maskX,cmap='jet')\n",
    "plt.subplot(1,2,2)\n",
    "a = 20\n",
    "plt.imshow(maskY[50-a:50+a,50-a:50+a],cmap='jet')\n",
    "plt.show()"
   ]
  },
  {
   "cell_type": "code",
   "execution_count": null,
   "metadata": {},
   "outputs": [],
   "source": [
    "from scipy.signal import convolve2d,fftconvolve\n",
    "def colored_neurons():\n",
    "    n_cells=np.random.randint(1,15)\n",
    "    cell_mask=np.zeros((256,256,n_cells))\n",
    "    centers=np.zeros((n_cells,2))\n",
    "    colored_neurons=np.zeros((256,256,3))\n",
    "    cell_centers=np.zeros((256,256))\n",
    "    for i in range(n_cells):\n",
    "\n",
    "        center=np.random.randint(255),np.random.randint(255)\n",
    "        centers[i,:]=center\n",
    "        axbody,ax1,ax2,rot=live_neuron_oval(xx,yy,center[0],center[1])\n",
    "        jitter_x_I=-ax2/3.+2/3.*np.random.rand()*ax2\n",
    "        jitter_y_I=ax1/3.+2/3.*np.random.rand()*ax1\n",
    "        sigma_xI=1.2*ax1\n",
    "        sigma_yI=1.2*ax2\n",
    "        I=0.7+0.3*np.random.rand()\n",
    "        intensity=gauss_intensity_rot(xx,yy,center[0]+jitter_x_I,center[1]+jitter_y_I,sigma_xI,sigma_yI,rot,I)# gauss halo coloring\n",
    "        cell_mask[axbody[:,:,1],i]=intensity[axbody[:,:,1]]\n",
    "    cell_centers[centers[:,0].astype(int),centers[:,1].astype(int)]=1\n",
    "    chan_red      = np.tanh(fftconvolve(cell_centers,maskX,mode='same')*5)/2.+0.5\n",
    "    chan_blue     = np.tanh(fftconvolve(cell_centers,maskY,mode='same')*5)/2.+0.5\n",
    "    chan_green    = 1.-chan_blue\n",
    "        \n",
    "    for i in range(len(centers)):\n",
    "        colored_neurons[:,:,0] += chan_red[int(centers[i,0]),int(centers[i,1])] * cell_mask[:,:,i]\n",
    "        colored_neurons[:,:,1] += chan_green[int(centers[i,0]),int(centers[i,1])] * cell_mask[:,:,i]\n",
    "        colored_neurons[:,:,2] += chan_blue[int(centers[i,0]),int(centers[i,1])] * cell_mask[:,:,i] \n",
    "    noise=np.random.normal(loc=0.1,scale=0.05,size=(256,256,3))\n",
    "    colored_neurons[colored_neurons==0]=noise[colored_neurons==0]\n",
    "    return (np.clip(colored_neurons,0,1)*255).astype(np.uint8)"
   ]
  },
  {
   "cell_type": "code",
   "execution_count": null,
   "metadata": {},
   "outputs": [],
   "source": [
    "coln=colored_neurons()\n",
    "plt.imshow(coln)"
   ]
  },
  {
   "cell_type": "code",
   "execution_count": null,
   "metadata": {},
   "outputs": [],
   "source": [
    "directory = data_path + 'Neuron_Col_Live/Synthetic/'\n",
    "if not os.path.exists(directory):\n",
    "    os.makedirs(directory)"
   ]
  },
  {
   "cell_type": "code",
   "execution_count": null,
   "metadata": {},
   "outputs": [],
   "source": [
    "for i in range(number_images):\n",
    "    name=directory+str(i).zfill(5)+'.png'\n",
    "    image=colored_neurons()\n",
    "    io.imsave(name,image)\n",
    "    if i%50==0:\n",
    "        print i,"
   ]
  },
  {
   "cell_type": "code",
   "execution_count": null,
   "metadata": {},
   "outputs": [],
   "source": []
  }
 ],
 "metadata": {
  "kernelspec": {
   "display_name": "Python 2",
   "language": "python",
   "name": "python2"
  },
  "language_info": {
   "codemirror_mode": {
    "name": "ipython",
    "version": 2
   },
   "file_extension": ".py",
   "mimetype": "text/x-python",
   "name": "python",
   "nbconvert_exporter": "python",
   "pygments_lexer": "ipython2",
   "version": "2.7.15"
  }
 },
 "nbformat": 4,
 "nbformat_minor": 2
}
