{
 "cells": [
  {
   "cell_type": "code",
   "execution_count": 36,
   "metadata": {},
   "outputs": [],
   "source": [
    "import numpy as np\n",
    "import matplotlib\n",
    "import matplotlib.pyplot as plt\n",
    "%matplotlib inline\n",
    "import os\n",
    "import colorsys\n",
    "import imageio as io\n",
    "from scipy.ndimage import binary_dilation\n",
    "from numpy import random\n",
    "from scipy.stats import skewnorm"
   ]
  },
  {
   "cell_type": "code",
   "execution_count": 37,
   "metadata": {},
   "outputs": [],
   "source": [
    "def gen_fake_img(imsize,length_var,width_var,rng_wire_bounds,rng_length_loc_scale,fix_length,fix_width):\n",
    "    image = np.zeros(( imsize,imsize, 3)) #replace with noise for stability\n",
    "    #image = np.random.normal(loc=0.1,scale=0.05,size=(imsize,imsize,3))\n",
    "    n_wires=np.random.randint(rng_wire_bounds[0],rng_wire_bounds[1])\n",
    "    for n in range(n_wires):\n",
    "        if length_var:\n",
    "            length=skewnorm.rvs(a=3,loc=50,scale=90,size=1)\n",
    "        if not length_var:\n",
    "            length=np.array([fix_length])\n",
    "\n",
    "        x_loc = np.random.rand() * (imsize - length) + length / 2.\n",
    "        y_loc = np.random.rand() * (imsize - length) + length / 2.\n",
    "        angle = np.random.random() * np.pi\n",
    "        vec_x=np.cos(angle)\n",
    "        vec_y=np.sin(angle)\n",
    "        x_wires = (vec_x.reshape(1, 1) * length / 2. * np.linspace(-1, 1, 200) + x_loc.reshape(1,1)).astype(int)\n",
    "        y_wires = (vec_y.reshape(1, 1) * length / 2. * np.linspace(-1, 1, 200) + y_loc.reshape(1,1)).astype(int)\n",
    "        indices = (x_wires * imsize + y_wires).flatten() \n",
    "        to_rem=np.where(indices>=imsize*imsize)[0] #make sure wire doesnt go out of image\n",
    "        indices=[indices[i] for i in range(len(indices)) if i not in to_rem]\n",
    "\n",
    "        wire = np.zeros([imsize*imsize], dtype=np.double)\n",
    "        wire[indices] = 1\n",
    "        wire = wire.reshape( imsize, imsize)\n",
    "\n",
    "        if width_var:\n",
    "            it=np.random.choice(np.arange(1,6),p=[0.6,0.2,0.1,0.05,0.05])\n",
    "        if not width_var:\n",
    "            it=fix_width\n",
    "        wire = binary_dilation(wire,iterations=it)\n",
    "        wire=wire.astype(bool)\n",
    "        image[:,:,0][wire]=angle/np.pi #hue\n",
    "        image[:,:,1][wire]=1 #saturation\n",
    "        image[:,:,2][wire]=1 #brightness\n",
    "\n",
    "    image=matplotlib.colors.hsv_to_rgb(image) #not necessary. Better visualization if you do\n",
    "    return image"
   ]
  },
  {
   "cell_type": "code",
   "execution_count": 38,
   "metadata": {},
   "outputs": [],
   "source": [
    "params={'imsize': 256,\n",
    "        'length_var': False,\n",
    "        'width_var': False,\n",
    "        'rng_wire_bounds': [15,30],\n",
    "        'rng_length_loc_scale': [50,90],\n",
    "        'fix_length': 50,\n",
    "        'fix_width': 1}\n",
    "N_images=500\n"
   ]
  },
  {
   "cell_type": "code",
   "execution_count": 39,
   "metadata": {},
   "outputs": [
    {
     "data": {
      "text/plain": [
       "<matplotlib.image.AxesImage at 0x7f6f78ebe850>"
      ]
     },
     "execution_count": 39,
     "metadata": {},
     "output_type": "execute_result"
    },
    {
     "data": {
      "image/png": "[encoded data removed]",
      "text/plain": [
       "<Figure size 432x288 with 1 Axes>"
      ]
     },
     "metadata": {
      "needs_background": "light"
     },
     "output_type": "display_data"
    }
   ],
   "source": [
    "example=gen_fake_img(**params)\n",
    "plt.imshow(example)"
   ]
  },
  {
   "cell_type": "code",
   "execution_count": 43,
   "metadata": {},
   "outputs": [],
   "source": [
    "dataname='Nanowires'\n",
    "train_name='trainA'\n",
    "directory='../Data/'+dataname+'/'+train_name+'/'\n",
    "if not os.path.exists(directory):\n",
    "    os.makedirs(directory)"
   ]
  },
  {
   "cell_type": "code",
   "execution_count": 44,
   "metadata": {},
   "outputs": [
    {
     "name": "stdout",
     "output_type": "stream",
     "text": [
      "0 50 100 150 200 250 300 350 400 450\n"
     ]
    }
   ],
   "source": [
    "for i in range(N_images):\n",
    "    name=directory+str(i).zfill(5)+'.png'\n",
    "    image=(gen_fake_img(**params)*255).astype(np.uint8) #map to 0-255,8 bit image\n",
    "    io.imsave(name,image)\n",
    "    if i%50==0:\n",
    "        print i,"
   ]
  },
  {
   "cell_type": "code",
   "execution_count": null,
   "metadata": {},
   "outputs": [],
   "source": [
    "\n"
   ]
  },
  {
   "cell_type": "code",
   "execution_count": null,
   "metadata": {},
   "outputs": [],
   "source": []
  }
 ],
 "metadata": {
  "kernelspec": {
   "display_name": "Python 2",
   "language": "python",
   "name": "python2"
  },
  "language_info": {
   "codemirror_mode": {
    "name": "ipython",
    "version": 2
   },
   "file_extension": ".py",
   "mimetype": "text/x-python",
   "name": "python",
   "nbconvert_exporter": "python",
   "pygments_lexer": "ipython2",
   "version": "2.7.15"
  }
 },
 "nbformat": 4,
 "nbformat_minor": 2
}
