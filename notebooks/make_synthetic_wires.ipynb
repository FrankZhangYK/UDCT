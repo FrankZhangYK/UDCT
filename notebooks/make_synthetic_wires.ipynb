{
 "cells": [
  {
   "cell_type": "code",
   "execution_count": null,
   "metadata": {},
   "outputs": [],
   "source": [
    "import numpy as np\n",
    "import matplotlib\n",
    "import matplotlib.pyplot as plt\n",
    "%matplotlib inline\n",
    "import os\n",
    "import colorsys\n",
    "import imageio as io\n",
    "from scipy.ndimage import binary_dilation\n",
    "from skimage.filters import gaussian\n",
    "from numpy import random\n",
    "from scipy.stats import skewnorm"
   ]
  },
  {
   "cell_type": "code",
   "execution_count": null,
   "metadata": {},
   "outputs": [],
   "source": [
    "def gen_fake_img(imsize,length_var,width_var,rng_wire_bounds,rng_length_loc_scale,fix_length,fix_width):\n",
    "    #image = np.zeros(( imsize,imsize, 3)) #replace with noise for stability\n",
    "    image = np.random.normal(loc=0.1,scale=0.05,size=(imsize,imsize,3))\n",
    "    saturation_map=np.random.normal(loc=0.8,scale=0.2,size=(imsize,imsize))\n",
    "    saturation_map=gaussian(saturation_map,sigma=3) #introduce long range noise correlations\n",
    "    hue_map=np.random.normal(loc=0.8,scale=0.2,size=(imsize,imsize))\n",
    "    hue_map=gaussian(hue_map,sigma=2)\n",
    "    n_wires=np.random.randint(rng_wire_bounds[0],rng_wire_bounds[1])\n",
    "    for n in range(n_wires):\n",
    "        if length_var:\n",
    "            length=skewnorm.rvs(a=3,loc=rng_length_loc_scale[0],scale=rng_length_loc_scale[1],size=1)\n",
    "        if not length_var:\n",
    "            length=np.array([fix_length])\n",
    "\n",
    "        x_loc = np.array([np.random.rand() * imsize]) \n",
    "        y_loc = np.array(np.random.rand() * imsize) \n",
    "        angle = np.random.random() * np.pi\n",
    "        vec_x=np.cos(angle)\n",
    "        vec_y=np.sin(angle)\n",
    "        x_wires = (vec_x.reshape(1, 1) * length / 2. * np.linspace(-1, 1, 200) + x_loc.reshape(1,1)).astype(int)\n",
    "        y_wires = (vec_y.reshape(1, 1) * length / 2. * np.linspace(-1, 1, 200) + y_loc.reshape(1,1)).astype(int)\n",
    "        indices = (x_wires * imsize + y_wires).flatten() \n",
    "        to_rem=np.where(indices>=imsize*imsize)[0] #make sure wire doesnt go out of image\n",
    "        indices=[indices[i] for i in range(len(indices)) if i not in to_rem]\n",
    "\n",
    "        wire = np.zeros([imsize*imsize], dtype=np.double)\n",
    "        wire[indices] = 1\n",
    "        wire = wire.reshape( imsize, imsize)\n",
    "\n",
    "        if width_var:\n",
    "            it=np.random.choice(np.arange(1,6),p=[0.7,0.2,0.07,0.02,0.01])\n",
    "        if not width_var:\n",
    "            it=fix_width\n",
    "        wire = binary_dilation(wire,iterations=it)\n",
    "        wire=wire.astype(bool)\n",
    "        image[:,:,0][wire]=angle/np.pi #hue\n",
    "        image[:,:,1][wire]=hue_map[wire] #saturation\n",
    "        image[:,:,2][wire]=saturation_map[wire] #brightness\n",
    "    image=np.clip(image,0,1)\n",
    "    image=matplotlib.colors.hsv_to_rgb(image) #Better visualization, also probably better use of all 3 channels (hsv varies only little in channel 2 and 3)\n",
    "    return image"
   ]
  },
  {
   "cell_type": "code",
   "execution_count": null,
   "metadata": {},
   "outputs": [],
   "source": [
    "params={'imsize': 256,\n",
    "        'length_var': True,\n",
    "        'width_var': True,\n",
    "        'rng_wire_bounds': [10,40],\n",
    "        'rng_length_loc_scale': [20,60],\n",
    "        'fix_length': 50,\n",
    "        'fix_width': 1}\n",
    "N_images=500"
   ]
  },
  {
   "cell_type": "code",
   "execution_count": null,
   "metadata": {},
   "outputs": [],
   "source": [
    "example=gen_fake_img(**params)\n",
    "plt.imshow(example)"
   ]
  },
  {
   "cell_type": "code",
   "execution_count": null,
   "metadata": {},
   "outputs": [],
   "source": [
    "directory='../Data/Nanowire/Synthetic/'"
   ]
  },
  {
   "cell_type": "code",
   "execution_count": null,
   "metadata": {},
   "outputs": [],
   "source": [
    "for i in range(N_images):\n",
    "    name=directory+str(i).zfill(5)+'.png'\n",
    "    image=(gen_fake_img(**params)*255).astype(np.uint8) #map to 0-255,8 bit image\n",
    "    io.imsave(name,image)\n",
    "    if i%50==0:\n",
    "        print(i)"
   ]
  }
 ],
 "metadata": {
  "kernelspec": {
   "display_name": "Python 2",
   "language": "python",
   "name": "python2"
  },
  "language_info": {
   "codemirror_mode": {
    "name": "ipython",
    "version": 2
   },
   "file_extension": ".py",
   "mimetype": "text/x-python",
   "name": "python",
   "nbconvert_exporter": "python",
   "pygments_lexer": "ipython2",
   "version": "2.7.15"
  }
 },
 "nbformat": 4,
 "nbformat_minor": 2
}
